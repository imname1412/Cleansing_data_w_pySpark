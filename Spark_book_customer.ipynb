{
 "cells": [
  {
   "cell_type": "code",
   "execution_count": 61,
   "id": "680d457e-3348-4348-b314-eb1223ba1d83",
   "metadata": {
    "tags": []
   },
   "outputs": [],
   "source": [
    "from pyspark.sql import SparkSession\n",
    "from pyspark.sql.functions import *"
   ]
  },
  {
   "cell_type": "markdown",
   "id": "f8b69129-1512-4865-98a4-9b269435df2a",
   "metadata": {},
   "source": [
    "# Create SparkSession\n",
    "use all allowed multi-core cpu on local"
   ]
  },
  {
   "cell_type": "code",
   "execution_count": 62,
   "id": "b8937caf-6630-450a-a178-2a859e36d1ac",
   "metadata": {
    "tags": []
   },
   "outputs": [],
   "source": [
    "spark=SparkSession\\\n",
    ".builder\\\n",
    ".master('local[*]')\\\n",
    ".appName('spark_app')\\\n",
    ".getOrCreate()"
   ]
  },
  {
   "cell_type": "code",
   "execution_count": 63,
   "id": "6b2c64e3-4e40-4d9e-a52f-0f05b3f8e8c5",
   "metadata": {
    "tags": []
   },
   "outputs": [
    {
     "data": {
      "text/html": [
       "\n",
       "            <div>\n",
       "                <p><b>SparkSession - in-memory</b></p>\n",
       "                \n",
       "        <div>\n",
       "            <p><b>SparkContext</b></p>\n",
       "\n",
       "            <p><a href=\"http://192.168.1.61:4040\">Spark UI</a></p>\n",
       "\n",
       "            <dl>\n",
       "              <dt>Version</dt>\n",
       "                <dd><code>v3.4.1</code></dd>\n",
       "              <dt>Master</dt>\n",
       "                <dd><code>local[*]</code></dd>\n",
       "              <dt>AppName</dt>\n",
       "                <dd><code>spark_app</code></dd>\n",
       "            </dl>\n",
       "        </div>\n",
       "        \n",
       "            </div>\n",
       "        "
      ],
      "text/plain": [
       "<pyspark.sql.session.SparkSession at 0x10a1fb690>"
      ]
     },
     "execution_count": 63,
     "metadata": {},
     "output_type": "execute_result"
    }
   ],
   "source": [
    "spark"
   ]
  },
  {
   "cell_type": "markdown",
   "id": "a928f2a2-cfa8-4f06-8e63-ca5e591ac95e",
   "metadata": {},
   "source": [
    "### Import csv"
   ]
  },
  {
   "cell_type": "code",
   "execution_count": 72,
   "id": "62fc4185-11e2-4241-a18b-e3d73f734c3b",
   "metadata": {
    "tags": []
   },
   "outputs": [],
   "source": [
    "df = spark.read.csv('book_customer.csv', header=True, inferSchema=True)"
   ]
  },
  {
   "cell_type": "markdown",
   "id": "9845e149-54b8-4f1a-be93-d7916d4bec35",
   "metadata": {},
   "source": [
    "# Data Profiling"
   ]
  },
  {
   "cell_type": "code",
   "execution_count": 73,
   "id": "ebb4754d-0401-4f17-93ea-393762f58d98",
   "metadata": {
    "tags": []
   },
   "outputs": [
    {
     "name": "stdout",
     "output_type": "stream",
     "text": [
      "root\n",
      " |-- timestamp: timestamp (nullable = true)\n",
      " |-- user_id: string (nullable = true)\n",
      " |-- book_id: integer (nullable = true)\n",
      " |-- country: string (nullable = true)\n",
      " |-- price: double (nullable = true)\n",
      "\n"
     ]
    }
   ],
   "source": [
    "df.printSchema()"
   ]
  },
  {
   "cell_type": "code",
   "execution_count": 74,
   "id": "57d95114-bd1e-4caa-96db-148e2e5ca447",
   "metadata": {
    "tags": []
   },
   "outputs": [
    {
     "name": "stdout",
     "output_type": "stream",
     "text": [
      "+-------------------+--------+-------+------------+-----+\n",
      "|          timestamp| user_id|book_id|     country|price|\n",
      "+-------------------+--------+-------+------------+-----+\n",
      "|2021-05-01 08:03:44|824dc295|      2|      Israel|24.95|\n",
      "|2021-05-02 02:48:34|f80fe106|      6|    Thailand|31.49|\n",
      "|2021-05-01 16:54:57|01cb9fe0|      9|       Italy|29.65|\n",
      "|2021-05-01 21:45:28|59508f47|     13|South Africa| 22.4|\n",
      "|2021-05-01 14:50:52|3553ebbb|     14|      Canada| 28.0|\n",
      "+-------------------+--------+-------+------------+-----+\n",
      "only showing top 5 rows\n",
      "\n"
     ]
    }
   ],
   "source": [
    "df.show(5)"
   ]
  },
  {
   "cell_type": "code",
   "execution_count": 75,
   "id": "821cbd5a-3e03-43bb-aa2e-5db67c91a485",
   "metadata": {
    "tags": []
   },
   "outputs": [
    {
     "data": {
      "text/plain": [
       "500000"
      ]
     },
     "execution_count": 75,
     "metadata": {},
     "output_type": "execute_result"
    }
   ],
   "source": [
    "df.count()"
   ]
  },
  {
   "cell_type": "code",
   "execution_count": 76,
   "id": "b8237829-470b-464a-9c0d-8be25919d7f1",
   "metadata": {
    "tags": []
   },
   "outputs": [
    {
     "name": "stdout",
     "output_type": "stream",
     "text": [
      "+-------+-------+-------+-------+------+\n",
      "|summary|user_id|book_id|country| price|\n",
      "+-------+-------+-------+-------+------+\n",
      "|  count| 499998| 500000| 500000|500000|\n",
      "+-------+-------+-------+-------+------+\n",
      "\n"
     ]
    }
   ],
   "source": [
    "df.summary('count').show()"
   ]
  },
  {
   "cell_type": "markdown",
   "id": "eaac64a5-c2a2-49bc-8512-7996302ff27b",
   "metadata": {},
   "source": [
    "There's `missing value` on user_id"
   ]
  },
  {
   "cell_type": "code",
   "execution_count": 77,
   "id": "61ba40ae-8555-4f49-abe5-f0e80b27ae24",
   "metadata": {
    "tags": []
   },
   "outputs": [
    {
     "data": {
      "text/plain": [
       "[('timestamp', 'timestamp'),\n",
       " ('user_id', 'string'),\n",
       " ('book_id', 'int'),\n",
       " ('country', 'string'),\n",
       " ('price', 'double')]"
      ]
     },
     "execution_count": 77,
     "metadata": {},
     "output_type": "execute_result"
    }
   ],
   "source": [
    "df.dtypes"
   ]
  },
  {
   "cell_type": "markdown",
   "id": "11504197-6426-46dd-8f7d-435c0aa7ff1b",
   "metadata": {},
   "source": [
    "### Lazy Evaluation\n",
    "In Spark, `Lazy Evaluation` means that You can apply as many TRANSFORMATIONs as you want, but Spark will **not start** the execution of the process <ins>until an ACTION is called.</ins>"
   ]
  },
  {
   "cell_type": "code",
   "execution_count": 79,
   "id": "2eb137c7-f892-42ba-bf3b-572fda49ce50",
   "metadata": {
    "tags": []
   },
   "outputs": [
    {
     "data": {
      "text/plain": [
       "DataFrame[timestamp: timestamp, user_id: string, book_id: int, country: string, price: double]"
      ]
     },
     "execution_count": 79,
     "metadata": {},
     "output_type": "execute_result"
    }
   ],
   "source": [
    "df.where(df.user_id.isNull()) # Lazy Evaluation"
   ]
  },
  {
   "cell_type": "code",
   "execution_count": 80,
   "id": "085ebc11-ebb3-4265-a5a6-9f13cefd9378",
   "metadata": {
    "tags": []
   },
   "outputs": [
    {
     "name": "stdout",
     "output_type": "stream",
     "text": [
      "+-------------------+-------+-------+-------+-----+\n",
      "|          timestamp|user_id|book_id|country|price|\n",
      "+-------------------+-------+-------+-------+-----+\n",
      "|2021-05-01 14:41:20|   null|    516| Brazil|27.37|\n",
      "|2021-06-30 02:27:00|   null|   1390|  Japan|27.99|\n",
      "+-------------------+-------+-------+-------+-----+\n",
      "\n"
     ]
    }
   ],
   "source": [
    "df.where(df.user_id.isNull()).show() # action"
   ]
  },
  {
   "cell_type": "code",
   "execution_count": 84,
   "id": "afc84ef5-0cb4-4aae-9108-5be5fe5c7e7c",
   "metadata": {
    "tags": []
   },
   "outputs": [
    {
     "name": "stdout",
     "output_type": "stream",
     "text": [
      "+-------+--------+-----------------+-------+------------------+\n",
      "|summary| user_id|          book_id|country|             price|\n",
      "+-------+--------+-----------------+-------+------------------+\n",
      "|  count|  499998|           500000| 500000|            500000|\n",
      "|   mean|Infinity|       740.377786|   null|31.459311679998564|\n",
      "| stddev|     NaN|559.9366172146358|   null|10.945931459891698|\n",
      "|    min|00000f49|                1|Algeria|               0.0|\n",
      "|    max|ffffe3e7|             2269|  Yemen|              84.0|\n",
      "+-------+--------+-----------------+-------+------------------+\n",
      "\n"
     ]
    }
   ],
   "source": [
    "df.describe().show()"
   ]
  },
  {
   "cell_type": "code",
   "execution_count": 88,
   "id": "d19912b7-fd09-4530-8ad6-3e08e863e688",
   "metadata": {
    "tags": []
   },
   "outputs": [
    {
     "name": "stderr",
     "output_type": "stream",
     "text": [
      "[Stage 75:=======>                                                  (1 + 7) / 8]\r"
     ]
    },
    {
     "name": "stdout",
     "output_type": "stream",
     "text": [
      "+-------+-----------+-----------------+-------+------------------+\n",
      "|summary|    user_id|          book_id|country|             price|\n",
      "+-------+-----------+-----------------+-------+------------------+\n",
      "|  count|     499998|           500000| 500000|            500000|\n",
      "|   mean|   Infinity|       740.377786|   null|31.459311679998564|\n",
      "| stddev|        NaN|559.9366172146358|   null|10.945931459891698|\n",
      "|    min|   00000f49|                1|Algeria|               0.0|\n",
      "|    25%|2.4050123E7|              262|   null|             24.95|\n",
      "|    50%|  7.04742E7|              614|   null|             29.99|\n",
      "|    75%|   4.857E81|             1215|   null|             34.99|\n",
      "|    max|   ffffe3e7|             2269|  Yemen|              84.0|\n",
      "+-------+-----------+-----------------+-------+------------------+\n",
      "\n"
     ]
    },
    {
     "name": "stderr",
     "output_type": "stream",
     "text": [
      "                                                                                \r"
     ]
    }
   ],
   "source": [
    "df.summary().show()"
   ]
  },
  {
   "cell_type": "code",
   "execution_count": 91,
   "id": "ecf03c0d-6e28-43b7-859b-074e7a7e5517",
   "metadata": {
    "tags": []
   },
   "outputs": [
    {
     "name": "stdout",
     "output_type": "stream",
     "text": [
      "+-------+------------------+\n",
      "|summary|             price|\n",
      "+-------+------------------+\n",
      "|  count|            500000|\n",
      "|   mean|31.459311679998564|\n",
      "| stddev|10.945931459891698|\n",
      "|    min|               0.0|\n",
      "|    25%|             24.95|\n",
      "|    50%|             29.99|\n",
      "|    75%|             34.99|\n",
      "|    max|              84.0|\n",
      "+-------+------------------+\n",
      "\n"
     ]
    }
   ],
   "source": [
    "df.select(\"price\").summary().show()"
   ]
  },
  {
   "cell_type": "code",
   "execution_count": 92,
   "id": "40509173-78c9-45e9-ae3b-6397e505a1da",
   "metadata": {
    "tags": []
   },
   "outputs": [
    {
     "name": "stdout",
     "output_type": "stream",
     "text": [
      "+-------------------+-------+-------+-------+-----+\n",
      "|          timestamp|user_id|book_id|country|price|\n",
      "+-------------------+-------+-------+-------+-----+\n",
      "|2021-05-01 14:41:20|   null|    516| Brazil|27.37|\n",
      "|2021-06-30 02:27:00|   null|   1390|  Japan|27.99|\n",
      "+-------------------+-------+-------+-------+-----+\n",
      "\n"
     ]
    }
   ],
   "source": [
    "df.where(df.user_id.isNull()).show()"
   ]
  },
  {
   "cell_type": "markdown",
   "id": "452f1475-4179-40b6-bbc6-aeca4738e237",
   "metadata": {},
   "source": [
    "# Exploratory Data Analysis (EDA)"
   ]
  },
  {
   "cell_type": "markdown",
   "id": "dae8ae77-23b4-47bc-9ea4-823f24e780a7",
   "metadata": {},
   "source": [
    "### Non-graphic EDA"
   ]
  },
  {
   "cell_type": "markdown",
   "id": "95c3cec7-a888-4a0d-8255-1e24d3397107",
   "metadata": {},
   "source": [
    "##### Numeric"
   ]
  },
  {
   "cell_type": "code",
   "execution_count": 104,
   "id": "e3ac98ec-d591-4666-afd3-adb8e79ab5db",
   "metadata": {
    "tags": []
   },
   "outputs": [
    {
     "name": "stdout",
     "output_type": "stream",
     "text": [
      "+-------------------+--------+-------+--------------------+-----+\n",
      "|          timestamp| user_id|book_id|             country|price|\n",
      "+-------------------+--------+-------+--------------------+-----+\n",
      "|2021-05-01 00:16:49|96e247bd|     89|United States of ...| 6.97|\n",
      "|2021-05-01 02:24:23|17d254af|    265|United States of ...| 6.95|\n",
      "|2021-05-01 08:05:36|15b062aa|    265|United States of ...| 6.95|\n",
      "|2021-05-01 22:38:30|20cb45ac|    265|      United Kingdom| 6.95|\n",
      "|2021-05-02 02:48:42|1aae53bd|    265|             Vietnam| 6.95|\n",
      "|2021-05-01 15:09:13|228965c7|    756|      United Kingdom| 6.95|\n",
      "|2021-05-01 04:40:23|93493e37|    858|              France|  0.0|\n",
      "|2021-05-01 06:12:45|79c2705c|    858|             Austria|  0.0|\n",
      "|2021-05-01 06:15:21|c819712a|    858|            Malaysia|  0.0|\n",
      "|2021-05-01 11:23:05|9b519bdc|    858|United States of ...|  0.0|\n",
      "|2021-05-01 17:47:59|677b49df|    858|              Brazil|  0.0|\n",
      "|2021-05-01 00:27:02|575c22b3|   1056|          Montenegro| 6.95|\n",
      "|2021-05-01 03:06:05|e1b4a51d|   1056|             Bahamas| 6.95|\n",
      "|2021-05-01 03:42:18|32f56e1d|   1056|      United Kingdom| 6.95|\n",
      "|2021-05-01 06:24:53|2c2f8e90|   1056|             Bahamas| 6.95|\n",
      "|2021-05-01 17:01:31|526dc54e|   1056|              Canada| 6.95|\n",
      "|2021-05-01 21:25:52|0540bc55|   1056|             Belgium| 6.95|\n",
      "|2021-05-01 22:33:54|751a44ca|   1056|        South Africa| 6.95|\n",
      "|2021-05-01 23:56:36|45f63252|   1056|               Italy| 6.95|\n",
      "|2021-05-01 06:26:20|ff2e080e|   1308|              Israel| 6.95|\n",
      "+-------------------+--------+-------+--------------------+-----+\n",
      "only showing top 20 rows\n",
      "\n"
     ]
    }
   ],
   "source": [
    "df.where(df.price < 10).show()"
   ]
  },
  {
   "cell_type": "markdown",
   "id": "4fdb7d5e-9d58-4682-adc5-0f256a839220",
   "metadata": {},
   "source": [
    "##### String"
   ]
  },
  {
   "cell_type": "code",
   "execution_count": 103,
   "id": "84ada054-d4d7-449c-9e18-6185c3503629",
   "metadata": {
    "tags": []
   },
   "outputs": [
    {
     "name": "stdout",
     "output_type": "stream",
     "text": [
      "+-------------------+--------+-------+--------+-----+\n",
      "|          timestamp| user_id|book_id| country|price|\n",
      "+-------------------+--------+-------+--------+-----+\n",
      "|2021-05-02 02:48:34|f80fe106|      6|Thailand|31.49|\n",
      "|2021-05-01 02:48:58|405a6c88|     30|Thailand|14.95|\n",
      "|2021-05-02 01:10:03|6e47e5bc|     36|Thailand|23.95|\n",
      "|2021-05-01 16:27:41|b1171275|     46|Thailand|31.93|\n",
      "|2021-05-01 02:48:35|03c9dd6b|     56|Thailand|24.95|\n",
      "|2021-05-01 10:57:31|b95d1c98|     56|Thailand|24.95|\n",
      "|2021-05-01 19:32:28|3bb90f4e|     73|Thailand|27.99|\n",
      "|2021-05-01 05:27:39|e457a1a5|     85|Thailand|22.67|\n",
      "|2021-05-02 03:35:23|2c7e6cfe|    203|Thailand| 31.5|\n",
      "|2021-05-01 04:51:06|8c5f1416|    248|Thailand| 28.0|\n",
      "|2021-05-01 21:51:31|780d1ed8|    248|Thailand| 28.0|\n",
      "|2021-05-01 16:51:07|ab1acc54|    266|Thailand|19.59|\n",
      "|2021-05-01 01:28:12|70fd4bda|    309|Thailand| 28.0|\n",
      "|2021-05-02 02:24:21|ea03a9b1|    322|Thailand|30.79|\n",
      "|2021-05-01 10:30:11|5367613d|    330|Thailand| 28.0|\n",
      "|2021-05-01 14:41:49|5a41eb3e|    434|Thailand|27.99|\n",
      "|2021-05-01 13:24:51|3f6e7e02|    440|Thailand|20.99|\n",
      "|2021-05-01 16:08:32|86618c0d|    440|Thailand|20.99|\n",
      "|2021-05-01 19:42:01|b654377b|    488|Thailand|29.95|\n",
      "|2021-05-01 03:45:32|f79d10d8|    525|Thailand| 17.0|\n",
      "+-------------------+--------+-------+--------+-----+\n",
      "only showing top 20 rows\n",
      "\n"
     ]
    }
   ],
   "source": [
    "df.where(df.country == 'Thailand').show()"
   ]
  },
  {
   "cell_type": "code",
   "execution_count": 111,
   "id": "e96771c0-577a-49d2-8c2e-2509157b8de5",
   "metadata": {
    "tags": []
   },
   "outputs": [
    {
     "name": "stdout",
     "output_type": "stream",
     "text": [
      "+-------------------+--------+-------+--------+-----+\n",
      "|          timestamp| user_id|book_id| country|price|\n",
      "+-------------------+--------+-------+--------+-----+\n",
      "|2021-05-02 00:01:20|0c9aa94e|   2085|Thailand| 3.95|\n",
      "|2021-05-02 12:21:02|b1bde527|   1973|Thailand| 2.27|\n",
      "|2021-05-02 06:50:55|b189d045|   2103|Thailand| 4.89|\n",
      "|2021-05-03 04:38:35|00e5e399|   2168|Thailand| 2.79|\n",
      "|2021-05-08 08:29:54|ba6ab8d6|   1886|Thailand| 3.95|\n",
      "|2021-05-09 08:50:00|d454f253|   1923|Thailand| 3.95|\n",
      "|2021-05-10 00:16:56|5648c641|   2109|Thailand| 3.95|\n",
      "|2021-05-10 20:51:22|c8ec044d|   1975|Thailand| 3.95|\n",
      "|2021-05-13 17:22:34|d5124f6e|   2032|Thailand| 3.95|\n",
      "|2021-05-15 00:04:00|47885dc9|   2201|Thailand| 3.95|\n",
      "|2021-05-17 02:33:00|2bdbd4ee|   2016|Thailand|  0.0|\n",
      "|2021-05-16 23:45:55|011e0ea0|   2088|Thailand| 3.95|\n",
      "|2021-05-16 14:02:55|82c0ed6a|   2201|Thailand| 3.95|\n",
      "|2021-05-18 11:27:30|f06684db|   2006|Thailand| 3.95|\n",
      "|2021-05-20 21:44:40|a4a8b7ad|   1899|Thailand| 3.95|\n",
      "|2021-05-20 01:55:02|ed3719dc|   2089|Thailand| 3.95|\n",
      "|2021-05-22 02:01:16|cd7085e0|   1938|Thailand| 3.95|\n",
      "|2021-05-24 10:42:14|b478fd28|   1946|Thailand| 3.93|\n",
      "|2021-05-23 20:52:50|6169c892|   2198|Thailand| 4.36|\n",
      "|2021-05-25 06:15:57|f6da7548|   2005|Thailand| 3.95|\n",
      "+-------------------+--------+-------+--------+-----+\n",
      "only showing top 20 rows\n",
      "\n"
     ]
    }
   ],
   "source": [
    "df.where((df.country == 'Thailand') & (df.price < 5)).show()"
   ]
  },
  {
   "cell_type": "markdown",
   "id": "a7f8f79e-c044-4a3e-a177-5aa7585be700",
   "metadata": {},
   "source": [
    "find bought transaction on April and August"
   ]
  },
  {
   "cell_type": "code",
   "execution_count": 114,
   "id": "d4ac69c2-b9dc-4cb6-b284-16d63c9a7b3a",
   "metadata": {
    "tags": []
   },
   "outputs": [
    {
     "name": "stdout",
     "output_type": "stream",
     "text": [
      "+---------+-------+-------+-------+-----+\n",
      "|timestamp|user_id|book_id|country|price|\n",
      "+---------+-------+-------+-------+-----+\n",
      "+---------+-------+-------+-------+-----+\n",
      "\n"
     ]
    }
   ],
   "source": [
    "df.where(df.timestamp.startswith('2021-04')).show() # none"
   ]
  },
  {
   "cell_type": "code",
   "execution_count": 116,
   "id": "c017e441-da1e-4862-88ce-89bc24f6d0a3",
   "metadata": {
    "tags": []
   },
   "outputs": [
    {
     "data": {
      "text/plain": [
       "0"
      ]
     },
     "execution_count": 116,
     "metadata": {},
     "output_type": "execute_result"
    }
   ],
   "source": [
    "df.where(df.timestamp.startswith('2021-08')).count() # none"
   ]
  },
  {
   "cell_type": "markdown",
   "id": "af59efb0-754d-46be-954f-43c8cba1e759",
   "metadata": {},
   "source": [
    "### Graphical EDA"
   ]
  },
  {
   "cell_type": "markdown",
   "id": "d8c7b988-5777-4efc-8b50-0448f27cc255",
   "metadata": {},
   "source": [
    "Spark purpose isn't visualization so, using pandas + visualization lib instead by convert spark dataframe ==> to pandas dataframe"
   ]
  },
  {
   "cell_type": "code",
   "execution_count": 130,
   "id": "0f48ae9e-b72f-4bfd-b037-013f9487abec",
   "metadata": {
    "tags": []
   },
   "outputs": [],
   "source": [
    "import seaborn as sns\n",
    "import matplotlib.pyplot as plt\n",
    "import pandas as pd"
   ]
  },
  {
   "cell_type": "code",
   "execution_count": 119,
   "id": "3b1fef70-e485-49e4-bdad-656ba32378e5",
   "metadata": {
    "collapsed": true,
    "jupyter": {
     "outputs_hidden": true
    },
    "tags": []
   },
   "outputs": [
    {
     "ename": "TypeError",
     "evalue": "Casting to unit-less dtype 'datetime64' is not supported. Pass e.g. 'datetime64[ns]' instead.",
     "output_type": "error",
     "traceback": [
      "\u001b[0;31m---------------------------------------------------------------------------\u001b[0m",
      "\u001b[0;31mTypeError\u001b[0m                                 Traceback (most recent call last)",
      "Cell \u001b[0;32mIn[119], line 1\u001b[0m\n\u001b[0;32m----> 1\u001b[0m df_pd \u001b[38;5;241m=\u001b[39m \u001b[43mdf\u001b[49m\u001b[38;5;241;43m.\u001b[39;49m\u001b[43mtoPandas\u001b[49m\u001b[43m(\u001b[49m\u001b[43m)\u001b[49m\n",
      "File \u001b[0;32m/Library/Frameworks/Python.framework/Versions/3.11/lib/python3.11/site-packages/pyspark/sql/pandas/conversion.py:251\u001b[0m, in \u001b[0;36mPandasConversionMixin.toPandas\u001b[0;34m(self)\u001b[0m\n\u001b[1;32m    248\u001b[0m should_check_timedelta \u001b[38;5;241m=\u001b[39m is_timedelta64_dtype(t) \u001b[38;5;129;01mand\u001b[39;00m \u001b[38;5;28mlen\u001b[39m(pdf) \u001b[38;5;241m==\u001b[39m \u001b[38;5;241m0\u001b[39m\n\u001b[1;32m    250\u001b[0m \u001b[38;5;28;01mif\u001b[39;00m (t \u001b[38;5;129;01mis\u001b[39;00m \u001b[38;5;129;01mnot\u001b[39;00m \u001b[38;5;28;01mNone\u001b[39;00m \u001b[38;5;129;01mand\u001b[39;00m \u001b[38;5;129;01mnot\u001b[39;00m is_timedelta64_dtype(t)) \u001b[38;5;129;01mor\u001b[39;00m should_check_timedelta:\n\u001b[0;32m--> 251\u001b[0m     series \u001b[38;5;241m=\u001b[39m \u001b[43mseries\u001b[49m\u001b[38;5;241;43m.\u001b[39;49m\u001b[43mastype\u001b[49m\u001b[43m(\u001b[49m\u001b[43mt\u001b[49m\u001b[43m,\u001b[49m\u001b[43m \u001b[49m\u001b[43mcopy\u001b[49m\u001b[38;5;241;43m=\u001b[39;49m\u001b[38;5;28;43;01mFalse\u001b[39;49;00m\u001b[43m)\u001b[49m\n\u001b[1;32m    253\u001b[0m \u001b[38;5;28;01mwith\u001b[39;00m catch_warnings():\n\u001b[1;32m    254\u001b[0m     \u001b[38;5;28;01mfrom\u001b[39;00m \u001b[38;5;21;01mpandas\u001b[39;00m\u001b[38;5;21;01m.\u001b[39;00m\u001b[38;5;21;01merrors\u001b[39;00m \u001b[38;5;28;01mimport\u001b[39;00m PerformanceWarning\n",
      "File \u001b[0;32m/Library/Frameworks/Python.framework/Versions/3.11/lib/python3.11/site-packages/pandas/core/generic.py:6324\u001b[0m, in \u001b[0;36mNDFrame.astype\u001b[0;34m(self, dtype, copy, errors)\u001b[0m\n\u001b[1;32m   6317\u001b[0m     results \u001b[38;5;241m=\u001b[39m [\n\u001b[1;32m   6318\u001b[0m         \u001b[38;5;28mself\u001b[39m\u001b[38;5;241m.\u001b[39miloc[:, i]\u001b[38;5;241m.\u001b[39mastype(dtype, copy\u001b[38;5;241m=\u001b[39mcopy)\n\u001b[1;32m   6319\u001b[0m         \u001b[38;5;28;01mfor\u001b[39;00m i \u001b[38;5;129;01min\u001b[39;00m \u001b[38;5;28mrange\u001b[39m(\u001b[38;5;28mlen\u001b[39m(\u001b[38;5;28mself\u001b[39m\u001b[38;5;241m.\u001b[39mcolumns))\n\u001b[1;32m   6320\u001b[0m     ]\n\u001b[1;32m   6322\u001b[0m \u001b[38;5;28;01melse\u001b[39;00m:\n\u001b[1;32m   6323\u001b[0m     \u001b[38;5;66;03m# else, only a single dtype is given\u001b[39;00m\n\u001b[0;32m-> 6324\u001b[0m     new_data \u001b[38;5;241m=\u001b[39m \u001b[38;5;28;43mself\u001b[39;49m\u001b[38;5;241;43m.\u001b[39;49m\u001b[43m_mgr\u001b[49m\u001b[38;5;241;43m.\u001b[39;49m\u001b[43mastype\u001b[49m\u001b[43m(\u001b[49m\u001b[43mdtype\u001b[49m\u001b[38;5;241;43m=\u001b[39;49m\u001b[43mdtype\u001b[49m\u001b[43m,\u001b[49m\u001b[43m \u001b[49m\u001b[43mcopy\u001b[49m\u001b[38;5;241;43m=\u001b[39;49m\u001b[43mcopy\u001b[49m\u001b[43m,\u001b[49m\u001b[43m \u001b[49m\u001b[43merrors\u001b[49m\u001b[38;5;241;43m=\u001b[39;49m\u001b[43merrors\u001b[49m\u001b[43m)\u001b[49m\n\u001b[1;32m   6325\u001b[0m     \u001b[38;5;28;01mreturn\u001b[39;00m \u001b[38;5;28mself\u001b[39m\u001b[38;5;241m.\u001b[39m_constructor(new_data)\u001b[38;5;241m.\u001b[39m__finalize__(\u001b[38;5;28mself\u001b[39m, method\u001b[38;5;241m=\u001b[39m\u001b[38;5;124m\"\u001b[39m\u001b[38;5;124mastype\u001b[39m\u001b[38;5;124m\"\u001b[39m)\n\u001b[1;32m   6327\u001b[0m \u001b[38;5;66;03m# GH 33113: handle empty frame or series\u001b[39;00m\n",
      "File \u001b[0;32m/Library/Frameworks/Python.framework/Versions/3.11/lib/python3.11/site-packages/pandas/core/internals/managers.py:451\u001b[0m, in \u001b[0;36mBaseBlockManager.astype\u001b[0;34m(self, dtype, copy, errors)\u001b[0m\n\u001b[1;32m    448\u001b[0m \u001b[38;5;28;01melif\u001b[39;00m using_copy_on_write():\n\u001b[1;32m    449\u001b[0m     copy \u001b[38;5;241m=\u001b[39m \u001b[38;5;28;01mFalse\u001b[39;00m\n\u001b[0;32m--> 451\u001b[0m \u001b[38;5;28;01mreturn\u001b[39;00m \u001b[38;5;28;43mself\u001b[39;49m\u001b[38;5;241;43m.\u001b[39;49m\u001b[43mapply\u001b[49m\u001b[43m(\u001b[49m\n\u001b[1;32m    452\u001b[0m \u001b[43m    \u001b[49m\u001b[38;5;124;43m\"\u001b[39;49m\u001b[38;5;124;43mastype\u001b[39;49m\u001b[38;5;124;43m\"\u001b[39;49m\u001b[43m,\u001b[49m\n\u001b[1;32m    453\u001b[0m \u001b[43m    \u001b[49m\u001b[43mdtype\u001b[49m\u001b[38;5;241;43m=\u001b[39;49m\u001b[43mdtype\u001b[49m\u001b[43m,\u001b[49m\n\u001b[1;32m    454\u001b[0m \u001b[43m    \u001b[49m\u001b[43mcopy\u001b[49m\u001b[38;5;241;43m=\u001b[39;49m\u001b[43mcopy\u001b[49m\u001b[43m,\u001b[49m\n\u001b[1;32m    455\u001b[0m \u001b[43m    \u001b[49m\u001b[43merrors\u001b[49m\u001b[38;5;241;43m=\u001b[39;49m\u001b[43merrors\u001b[49m\u001b[43m,\u001b[49m\n\u001b[1;32m    456\u001b[0m \u001b[43m    \u001b[49m\u001b[43musing_cow\u001b[49m\u001b[38;5;241;43m=\u001b[39;49m\u001b[43musing_copy_on_write\u001b[49m\u001b[43m(\u001b[49m\u001b[43m)\u001b[49m\u001b[43m,\u001b[49m\n\u001b[1;32m    457\u001b[0m \u001b[43m\u001b[49m\u001b[43m)\u001b[49m\n",
      "File \u001b[0;32m/Library/Frameworks/Python.framework/Versions/3.11/lib/python3.11/site-packages/pandas/core/internals/managers.py:352\u001b[0m, in \u001b[0;36mBaseBlockManager.apply\u001b[0;34m(self, f, align_keys, **kwargs)\u001b[0m\n\u001b[1;32m    350\u001b[0m         applied \u001b[38;5;241m=\u001b[39m b\u001b[38;5;241m.\u001b[39mapply(f, \u001b[38;5;241m*\u001b[39m\u001b[38;5;241m*\u001b[39mkwargs)\n\u001b[1;32m    351\u001b[0m     \u001b[38;5;28;01melse\u001b[39;00m:\n\u001b[0;32m--> 352\u001b[0m         applied \u001b[38;5;241m=\u001b[39m \u001b[38;5;28;43mgetattr\u001b[39;49m\u001b[43m(\u001b[49m\u001b[43mb\u001b[49m\u001b[43m,\u001b[49m\u001b[43m \u001b[49m\u001b[43mf\u001b[49m\u001b[43m)\u001b[49m\u001b[43m(\u001b[49m\u001b[38;5;241;43m*\u001b[39;49m\u001b[38;5;241;43m*\u001b[39;49m\u001b[43mkwargs\u001b[49m\u001b[43m)\u001b[49m\n\u001b[1;32m    353\u001b[0m     result_blocks \u001b[38;5;241m=\u001b[39m extend_blocks(applied, result_blocks)\n\u001b[1;32m    355\u001b[0m out \u001b[38;5;241m=\u001b[39m \u001b[38;5;28mtype\u001b[39m(\u001b[38;5;28mself\u001b[39m)\u001b[38;5;241m.\u001b[39mfrom_blocks(result_blocks, \u001b[38;5;28mself\u001b[39m\u001b[38;5;241m.\u001b[39maxes)\n",
      "File \u001b[0;32m/Library/Frameworks/Python.framework/Versions/3.11/lib/python3.11/site-packages/pandas/core/internals/blocks.py:511\u001b[0m, in \u001b[0;36mBlock.astype\u001b[0;34m(self, dtype, copy, errors, using_cow)\u001b[0m\n\u001b[1;32m    491\u001b[0m \u001b[38;5;250m\u001b[39m\u001b[38;5;124;03m\"\"\"\u001b[39;00m\n\u001b[1;32m    492\u001b[0m \u001b[38;5;124;03mCoerce to the new dtype.\u001b[39;00m\n\u001b[1;32m    493\u001b[0m \n\u001b[0;32m   (...)\u001b[0m\n\u001b[1;32m    507\u001b[0m \u001b[38;5;124;03mBlock\u001b[39;00m\n\u001b[1;32m    508\u001b[0m \u001b[38;5;124;03m\"\"\"\u001b[39;00m\n\u001b[1;32m    509\u001b[0m values \u001b[38;5;241m=\u001b[39m \u001b[38;5;28mself\u001b[39m\u001b[38;5;241m.\u001b[39mvalues\n\u001b[0;32m--> 511\u001b[0m new_values \u001b[38;5;241m=\u001b[39m \u001b[43mastype_array_safe\u001b[49m\u001b[43m(\u001b[49m\u001b[43mvalues\u001b[49m\u001b[43m,\u001b[49m\u001b[43m \u001b[49m\u001b[43mdtype\u001b[49m\u001b[43m,\u001b[49m\u001b[43m \u001b[49m\u001b[43mcopy\u001b[49m\u001b[38;5;241;43m=\u001b[39;49m\u001b[43mcopy\u001b[49m\u001b[43m,\u001b[49m\u001b[43m \u001b[49m\u001b[43merrors\u001b[49m\u001b[38;5;241;43m=\u001b[39;49m\u001b[43merrors\u001b[49m\u001b[43m)\u001b[49m\n\u001b[1;32m    513\u001b[0m new_values \u001b[38;5;241m=\u001b[39m maybe_coerce_values(new_values)\n\u001b[1;32m    515\u001b[0m refs \u001b[38;5;241m=\u001b[39m \u001b[38;5;28;01mNone\u001b[39;00m\n",
      "File \u001b[0;32m/Library/Frameworks/Python.framework/Versions/3.11/lib/python3.11/site-packages/pandas/core/dtypes/astype.py:242\u001b[0m, in \u001b[0;36mastype_array_safe\u001b[0;34m(values, dtype, copy, errors)\u001b[0m\n\u001b[1;32m    239\u001b[0m     dtype \u001b[38;5;241m=\u001b[39m dtype\u001b[38;5;241m.\u001b[39mnumpy_dtype\n\u001b[1;32m    241\u001b[0m \u001b[38;5;28;01mtry\u001b[39;00m:\n\u001b[0;32m--> 242\u001b[0m     new_values \u001b[38;5;241m=\u001b[39m \u001b[43mastype_array\u001b[49m\u001b[43m(\u001b[49m\u001b[43mvalues\u001b[49m\u001b[43m,\u001b[49m\u001b[43m \u001b[49m\u001b[43mdtype\u001b[49m\u001b[43m,\u001b[49m\u001b[43m \u001b[49m\u001b[43mcopy\u001b[49m\u001b[38;5;241;43m=\u001b[39;49m\u001b[43mcopy\u001b[49m\u001b[43m)\u001b[49m\n\u001b[1;32m    243\u001b[0m \u001b[38;5;28;01mexcept\u001b[39;00m (\u001b[38;5;167;01mValueError\u001b[39;00m, \u001b[38;5;167;01mTypeError\u001b[39;00m):\n\u001b[1;32m    244\u001b[0m     \u001b[38;5;66;03m# e.g. _astype_nansafe can fail on object-dtype of strings\u001b[39;00m\n\u001b[1;32m    245\u001b[0m     \u001b[38;5;66;03m#  trying to convert to float\u001b[39;00m\n\u001b[1;32m    246\u001b[0m     \u001b[38;5;28;01mif\u001b[39;00m errors \u001b[38;5;241m==\u001b[39m \u001b[38;5;124m\"\u001b[39m\u001b[38;5;124mignore\u001b[39m\u001b[38;5;124m\"\u001b[39m:\n",
      "File \u001b[0;32m/Library/Frameworks/Python.framework/Versions/3.11/lib/python3.11/site-packages/pandas/core/dtypes/astype.py:184\u001b[0m, in \u001b[0;36mastype_array\u001b[0;34m(values, dtype, copy)\u001b[0m\n\u001b[1;32m    180\u001b[0m     \u001b[38;5;28;01mreturn\u001b[39;00m values\n\u001b[1;32m    182\u001b[0m \u001b[38;5;28;01mif\u001b[39;00m \u001b[38;5;129;01mnot\u001b[39;00m \u001b[38;5;28misinstance\u001b[39m(values, np\u001b[38;5;241m.\u001b[39mndarray):\n\u001b[1;32m    183\u001b[0m     \u001b[38;5;66;03m# i.e. ExtensionArray\u001b[39;00m\n\u001b[0;32m--> 184\u001b[0m     values \u001b[38;5;241m=\u001b[39m \u001b[43mvalues\u001b[49m\u001b[38;5;241;43m.\u001b[39;49m\u001b[43mastype\u001b[49m\u001b[43m(\u001b[49m\u001b[43mdtype\u001b[49m\u001b[43m,\u001b[49m\u001b[43m \u001b[49m\u001b[43mcopy\u001b[49m\u001b[38;5;241;43m=\u001b[39;49m\u001b[43mcopy\u001b[49m\u001b[43m)\u001b[49m\n\u001b[1;32m    186\u001b[0m \u001b[38;5;28;01melse\u001b[39;00m:\n\u001b[1;32m    187\u001b[0m     values \u001b[38;5;241m=\u001b[39m _astype_nansafe(values, dtype, copy\u001b[38;5;241m=\u001b[39mcopy)\n",
      "File \u001b[0;32m/Library/Frameworks/Python.framework/Versions/3.11/lib/python3.11/site-packages/pandas/core/arrays/datetimes.py:694\u001b[0m, in \u001b[0;36mDatetimeArray.astype\u001b[0;34m(self, dtype, copy)\u001b[0m\n\u001b[1;32m    682\u001b[0m     \u001b[38;5;28;01mraise\u001b[39;00m \u001b[38;5;167;01mTypeError\u001b[39;00m(\n\u001b[1;32m    683\u001b[0m         \u001b[38;5;124m\"\u001b[39m\u001b[38;5;124mCannot use .astype to convert from timezone-aware dtype to \u001b[39m\u001b[38;5;124m\"\u001b[39m\n\u001b[1;32m    684\u001b[0m         \u001b[38;5;124m\"\u001b[39m\u001b[38;5;124mtimezone-naive dtype. Use obj.tz_localize(None) or \u001b[39m\u001b[38;5;124m\"\u001b[39m\n\u001b[1;32m    685\u001b[0m         \u001b[38;5;124m\"\u001b[39m\u001b[38;5;124mobj.tz_convert(\u001b[39m\u001b[38;5;124m'\u001b[39m\u001b[38;5;124mUTC\u001b[39m\u001b[38;5;124m'\u001b[39m\u001b[38;5;124m).tz_localize(None) instead.\u001b[39m\u001b[38;5;124m\"\u001b[39m\n\u001b[1;32m    686\u001b[0m     )\n\u001b[1;32m    688\u001b[0m \u001b[38;5;28;01melif\u001b[39;00m (\n\u001b[1;32m    689\u001b[0m     \u001b[38;5;28mself\u001b[39m\u001b[38;5;241m.\u001b[39mtz \u001b[38;5;129;01mis\u001b[39;00m \u001b[38;5;28;01mNone\u001b[39;00m\n\u001b[1;32m    690\u001b[0m     \u001b[38;5;129;01mand\u001b[39;00m is_datetime64_dtype(dtype)\n\u001b[1;32m    691\u001b[0m     \u001b[38;5;129;01mand\u001b[39;00m dtype \u001b[38;5;241m!=\u001b[39m \u001b[38;5;28mself\u001b[39m\u001b[38;5;241m.\u001b[39mdtype\n\u001b[1;32m    692\u001b[0m     \u001b[38;5;129;01mand\u001b[39;00m is_unitless(dtype)\n\u001b[1;32m    693\u001b[0m ):\n\u001b[0;32m--> 694\u001b[0m     \u001b[38;5;28;01mraise\u001b[39;00m \u001b[38;5;167;01mTypeError\u001b[39;00m(\n\u001b[1;32m    695\u001b[0m         \u001b[38;5;124m\"\u001b[39m\u001b[38;5;124mCasting to unit-less dtype \u001b[39m\u001b[38;5;124m'\u001b[39m\u001b[38;5;124mdatetime64\u001b[39m\u001b[38;5;124m'\u001b[39m\u001b[38;5;124m is not supported. \u001b[39m\u001b[38;5;124m\"\u001b[39m\n\u001b[1;32m    696\u001b[0m         \u001b[38;5;124m\"\u001b[39m\u001b[38;5;124mPass e.g. \u001b[39m\u001b[38;5;124m'\u001b[39m\u001b[38;5;124mdatetime64[ns]\u001b[39m\u001b[38;5;124m'\u001b[39m\u001b[38;5;124m instead.\u001b[39m\u001b[38;5;124m\"\u001b[39m\n\u001b[1;32m    697\u001b[0m     )\n\u001b[1;32m    699\u001b[0m \u001b[38;5;28;01melif\u001b[39;00m is_period_dtype(dtype):\n\u001b[1;32m    700\u001b[0m     \u001b[38;5;28;01mreturn\u001b[39;00m \u001b[38;5;28mself\u001b[39m\u001b[38;5;241m.\u001b[39mto_period(freq\u001b[38;5;241m=\u001b[39mdtype\u001b[38;5;241m.\u001b[39mfreq)\n",
      "\u001b[0;31mTypeError\u001b[0m: Casting to unit-less dtype 'datetime64' is not supported. Pass e.g. 'datetime64[ns]' instead."
     ]
    }
   ],
   "source": [
    "df_pd = df.toPandas()"
   ]
  },
  {
   "cell_type": "markdown",
   "id": "1f52c3f0-f2e4-49c7-aa42-3b9781b1ccba",
   "metadata": {},
   "source": [
    "fixed: [stackoverflow](https://stackoverflow.com/questions/76072664/convert-pyspark-dataframe-to-pandas-dataframe-fails-on-timestamp-column)"
   ]
  },
  {
   "cell_type": "code",
   "execution_count": 120,
   "id": "02295872-e453-47c4-bfd8-8e44bed12c4d",
   "metadata": {
    "tags": []
   },
   "outputs": [],
   "source": [
    "df_pd = df.withColumn(\"timestamp\", date_format(\"timestamp\", \"yyyy-MM-dd HH:mm:ss\")).toPandas()"
   ]
  },
  {
   "cell_type": "code",
   "execution_count": 121,
   "id": "9b2bfd84-82c0-4002-8a27-0965ea4882c6",
   "metadata": {
    "tags": []
   },
   "outputs": [
    {
     "data": {
      "text/html": [
       "<div>\n",
       "<style scoped>\n",
       "    .dataframe tbody tr th:only-of-type {\n",
       "        vertical-align: middle;\n",
       "    }\n",
       "\n",
       "    .dataframe tbody tr th {\n",
       "        vertical-align: top;\n",
       "    }\n",
       "\n",
       "    .dataframe thead th {\n",
       "        text-align: right;\n",
       "    }\n",
       "</style>\n",
       "<table border=\"1\" class=\"dataframe\">\n",
       "  <thead>\n",
       "    <tr style=\"text-align: right;\">\n",
       "      <th></th>\n",
       "      <th>timestamp</th>\n",
       "      <th>user_id</th>\n",
       "      <th>book_id</th>\n",
       "      <th>country</th>\n",
       "      <th>price</th>\n",
       "    </tr>\n",
       "  </thead>\n",
       "  <tbody>\n",
       "    <tr>\n",
       "      <th>0</th>\n",
       "      <td>2021-05-01 08:03:44</td>\n",
       "      <td>824dc295</td>\n",
       "      <td>2</td>\n",
       "      <td>Israel</td>\n",
       "      <td>24.95</td>\n",
       "    </tr>\n",
       "    <tr>\n",
       "      <th>1</th>\n",
       "      <td>2021-05-02 02:48:34</td>\n",
       "      <td>f80fe106</td>\n",
       "      <td>6</td>\n",
       "      <td>Thailand</td>\n",
       "      <td>31.49</td>\n",
       "    </tr>\n",
       "    <tr>\n",
       "      <th>2</th>\n",
       "      <td>2021-05-01 16:54:57</td>\n",
       "      <td>01cb9fe0</td>\n",
       "      <td>9</td>\n",
       "      <td>Italy</td>\n",
       "      <td>29.65</td>\n",
       "    </tr>\n",
       "    <tr>\n",
       "      <th>3</th>\n",
       "      <td>2021-05-01 21:45:28</td>\n",
       "      <td>59508f47</td>\n",
       "      <td>13</td>\n",
       "      <td>South Africa</td>\n",
       "      <td>22.40</td>\n",
       "    </tr>\n",
       "    <tr>\n",
       "      <th>4</th>\n",
       "      <td>2021-05-01 14:50:52</td>\n",
       "      <td>3553ebbb</td>\n",
       "      <td>14</td>\n",
       "      <td>Canada</td>\n",
       "      <td>28.00</td>\n",
       "    </tr>\n",
       "  </tbody>\n",
       "</table>\n",
       "</div>"
      ],
      "text/plain": [
       "             timestamp   user_id  book_id       country  price\n",
       "0  2021-05-01 08:03:44  824dc295        2        Israel  24.95\n",
       "1  2021-05-02 02:48:34  f80fe106        6      Thailand  31.49\n",
       "2  2021-05-01 16:54:57  01cb9fe0        9         Italy  29.65\n",
       "3  2021-05-01 21:45:28  59508f47       13  South Africa  22.40\n",
       "4  2021-05-01 14:50:52  3553ebbb       14        Canada  28.00"
      ]
     },
     "execution_count": 121,
     "metadata": {},
     "output_type": "execute_result"
    }
   ],
   "source": [
    "df_pd.head()"
   ]
  },
  {
   "cell_type": "code",
   "execution_count": 158,
   "id": "c4ca004d-5f16-4746-add7-90713f989f08",
   "metadata": {
    "tags": []
   },
   "outputs": [
    {
     "data": {
      "image/png": "[encoded data removed]",
      "text/plain": [
       "<Figure size 640x480 with 1 Axes>"
      ]
     },
     "metadata": {},
     "output_type": "display_data"
    }
   ],
   "source": [
    "u, sg = df_pd.price.mean(), df_pd.price.std() \n",
    "df_pd.price.hist(bins=10)\n",
    "plt.title('book price distribution')\n",
    "plt.axvline(u, c='red', label='Mean')\n",
    "plt.axvline(u + sg, c='red', linestyle='--', label='+1sd')\n",
    "plt.axvline(u - sg, c='red', linestyle='--', label='-1sd')\n",
    "plt.legend()\n",
    "plt.grid(None)"
   ]
  },
  {
   "cell_type": "code",
   "execution_count": 125,
   "id": "32faaf12-1fe9-464a-94e7-41dadd4207a8",
   "metadata": {
    "tags": []
   },
   "outputs": [
    {
     "data": {
      "image/png": "[encoded data removed]",
      "text/plain": [
       "<Figure size 640x480 with 1 Axes>"
      ]
     },
     "metadata": {},
     "output_type": "display_data"
    }
   ],
   "source": [
    "sns.boxplot(data=df_pd, x='price');"
   ]
  },
  {
   "cell_type": "markdown",
   "id": "8697cdcf-eafa-45b2-9a96-5a853e3027d1",
   "metadata": {
    "tags": []
   },
   "source": [
    "just showing plot correlation (because limit feature so i use user_id and price [ correlation doesn't implt causation ]"
   ]
  },
  {
   "cell_type": "code",
   "execution_count": null,
   "id": "37ae3f19-1273-49cd-9b14-57b741e5a779",
   "metadata": {
    "tags": []
   },
   "outputs": [],
   "source": [
    "sns.scatterplot(\n",
    "    data=df_pd,\n",
    "    x='user_id',\n",
    "    y='price'\n",
    ")"
   ]
  },
  {
   "cell_type": "code",
   "execution_count": null,
   "id": "35544e0b-05d9-44e3-ac88-ea15769c0948",
   "metadata": {},
   "outputs": [],
   "source": []
  }
 ],
 "metadata": {
  "kernelspec": {
   "display_name": "Python 3 (ipykernel)",
   "language": "python",
   "name": "python3"
  },
  "language_info": {
   "codemirror_mode": {
    "name": "ipython",
    "version": 3
   },
   "file_extension": ".py",
   "mimetype": "text/x-python",
   "name": "python",
   "nbconvert_exporter": "python",
   "pygments_lexer": "ipython3",
   "version": "3.11.3"
  }
 },
 "nbformat": 4,
 "nbformat_minor": 5
}
